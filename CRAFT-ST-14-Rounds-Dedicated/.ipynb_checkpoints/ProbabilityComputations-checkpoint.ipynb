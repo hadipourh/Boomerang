{
 "cells": [
  {
   "cell_type": "markdown",
   "metadata": {},
   "source": [
    "# New 14-Round Boomerang Distinguishers of CRAFT\n",
    "Author: Hosein Hadipour\n",
    "\n",
    "Nov 8, 2020\n"
   ]
  },
  {
   "cell_type": "markdown",
   "metadata": {},
   "source": [
    "# Contents\n",
    "\n",
    "* [10 Rounds](#10_rounds)\n",
    "* [14 Rounds](#14_rounds)"
   ]
  },
  {
   "cell_type": "code",
   "execution_count": 1,
   "metadata": {},
   "outputs": [],
   "source": [
    "from sage.crypto.sboxes import SBox\n",
    "import os\n",
    "from pdb import set_trace"
   ]
  },
  {
   "cell_type": "code",
   "execution_count": 2,
   "metadata": {},
   "outputs": [],
   "source": [
    "craft_sb = SBox(0xc, 0xa, 0xd, 0x3, 0xe, 0xb, 0xf, 0x7, 0x8, 0x9, 0x1, 0x5, 0x0, 0x2, 0x4, 0x6)"
   ]
  },
  {
   "cell_type": "code",
   "execution_count": 3,
   "metadata": {},
   "outputs": [],
   "source": [
    "golden_set = [5, 7, 10, 13, 15]\n",
    "index_array = [0 for i in range(625)]\n",
    "cnt = 0\n",
    "for i in golden_set:\n",
    "    for j in golden_set:\n",
    "        for k in golden_set:\n",
    "            for l in golden_set:\n",
    "                index_array[cnt] = [i, j, k, l]\n",
    "                cnt += 1"
   ]
  },
  {
   "cell_type": "code",
   "execution_count": 4,
   "metadata": {},
   "outputs": [
    {
     "data": {
      "text/plain": [
       "312"
      ]
     },
     "execution_count": 4,
     "metadata": {},
     "output_type": "execute_result"
    }
   ],
   "source": [
    "index_array.index([10, 10, 10, 10])"
   ]
  },
  {
   "cell_type": "code",
   "execution_count": 5,
   "metadata": {},
   "outputs": [],
   "source": [
    "file_name = \"possible_inputs.txt\"\n",
    "input_diff = \"000000A000000000\"\n",
    "with open(file_name, \"w\") as inputs:\n",
    "    for i in range(15):\n",
    "        temp = input_diff.replace(\"A\", hex(i + 1)[2:])\n",
    "        temp = \"0x\" + temp[::-1]\n",
    "        inputs.write(temp)\n",
    "        inputs.write(\"\\n\")"
   ]
  },
  {
   "cell_type": "code",
   "execution_count": 6,
   "metadata": {},
   "outputs": [],
   "source": [
    "file_name = \"possible_outputs.txt\"\n",
    "output_diff = \"0000A00000000000\"\n",
    "with open(file_name, \"w\") as outputs:\n",
    "    for i in range(15):\n",
    "        temp = output_diff.replace(\"A\", hex(i + 1)[2:])\n",
    "        temp = \"0x\" + temp[::-1]\n",
    "        outputs.write(temp)\n",
    "        outputs.write(\"\\n\")"
   ]
  },
  {
   "cell_type": "markdown",
   "metadata": {},
   "source": [
    "# 4-Dimensional Probability Matrix for 8 Rounds"
   ]
  },
  {
   "cell_type": "code",
   "execution_count": 7,
   "metadata": {},
   "outputs": [],
   "source": [
    "# python code\n",
    "R8e = [[[[0 for l in range(15)] for k in range(15)] for j in range(15)] for i in range(15)]\n",
    "for i in list(range(0, 625)):\n",
    "    file_name = os.getcwd() + \"/GoldenSet/GoldenSet.o5253920.\" + str(i + 1)\n",
    "    with open(file_name, \"r\") as fileobj:\n",
    "        flines = fileobj.readlines()\n",
    "    target_line = flines[-2]\n",
    "    indices = target_line.split(\" = \")[-1]\n",
    "    indices = indices.split(\", Average\")[0]\n",
    "    indices = indices.replace(\"(\", \"\")\n",
    "    indices = indices.replace(\")\", \"\")\n",
    "    indices = list(map(int, indices.split(\",\")))\n",
    "    temp = target_line.split(\": \")[-1]\n",
    "    temp = temp.replace(\"\\n\", \"\")\n",
    "    temp = temp.replace(\"^\", \"**\")\n",
    "    if temp == \"2**-inf\":\n",
    "        pr = 0\n",
    "    else:\n",
    "        pr = eval(temp)\n",
    "    R8e[indices[0] - 1][indices[1] - 1][indices[2] - 1][indices[3] - 1] = pr\n",
    "# print(R8e)"
   ]
  },
  {
   "cell_type": "code",
   "execution_count": 8,
   "metadata": {},
   "outputs": [
    {
     "name": "stdout",
     "output_type": "stream",
     "text": [
      "-20.77\n"
     ]
    }
   ],
   "source": [
    "i, j, k, l = 9, 9, 9, 9\n",
    "print(float(log(R8e[i][j][k][l], 2)))"
   ]
  },
  {
   "cell_type": "code",
   "execution_count": 9,
   "metadata": {},
   "outputs": [],
   "source": [
    "# ddt = craft_sb.difference_distribution_table()\n",
    "# ddt"
   ]
  },
  {
   "cell_type": "markdown",
   "metadata": {},
   "source": [
    "# 2-Dimensional Probability Matrix for 8 Rounds"
   ]
  },
  {
   "cell_type": "code",
   "execution_count": 10,
   "metadata": {},
   "outputs": [],
   "source": [
    "# python code\n",
    "R8e2dim = [[0 for i in range(15)] for j in range(15)]\n",
    "for i in list(range(0, 225)):\n",
    "    file_name = os.getcwd() + \"/Matrix8r2Dim/GenMatrix8re2Dim.o61872-\" + str(i)\n",
    "    with open(file_name, \"r\") as fileobj:\n",
    "        flines = fileobj.readlines()\n",
    "    target_line = flines[-2]\n",
    "    indices = target_line.split(\" = \")[-1]\n",
    "    indices = indices.split(\", Average\")[0]\n",
    "    indices = indices.replace(\"(\", \"\")\n",
    "    indices = indices.replace(\")\", \"\")\n",
    "    indices = list(map(int, indices.split(\",\")))\n",
    "    temp = target_line.split(\": \")[-1]\n",
    "    temp = temp.replace(\"\\n\", \"\")\n",
    "    temp = temp.replace(\"^\", \"**\")\n",
    "    if temp == \"2**-inf\":\n",
    "        pr = 0\n",
    "    else:\n",
    "        pr = eval(temp)\n",
    "    R8e2dim[indices[0] - 1][indices[1] - 1] = pr\n",
    "# print(R8e)"
   ]
  },
  {
   "cell_type": "code",
   "execution_count": 11,
   "metadata": {},
   "outputs": [
    {
     "data": {
      "text/plain": [
       "-20.88"
      ]
     },
     "execution_count": 11,
     "metadata": {},
     "output_type": "execute_result"
    }
   ],
   "source": [
    "float(log(R8e2dim[9][9], 2))"
   ]
  },
  {
   "cell_type": "markdown",
   "metadata": {},
   "source": [
    "<a name=\"10_rounds\"></a>\n",
    "# 10 Rounds"
   ]
  },
  {
   "cell_type": "markdown",
   "metadata": {},
   "source": [
    "## Extending from both sides"
   ]
  },
  {
   "cell_type": "markdown",
   "metadata": {},
   "source": [
    "### E0-1 round"
   ]
  },
  {
   "cell_type": "code",
   "execution_count": 12,
   "metadata": {},
   "outputs": [],
   "source": [
    "p_e0_1r = [0.0, 0.0, 0.0, 0.0, 0.25, 0.0, 0.0, 0.0, 0.0, 0.25, 0.0, 0.0, 0.25, 0.0, 0.25]"
   ]
  },
  {
   "cell_type": "markdown",
   "metadata": {},
   "source": [
    "### E1-1 round"
   ]
  },
  {
   "cell_type": "code",
   "execution_count": 13,
   "metadata": {},
   "outputs": [],
   "source": [
    "p_e1_1r = [0.0, 0.0, 0.0, 0.0, 0.25, 0.0, 0.0, 0.0, 0.0, 0.25, 0.0, 0.0, 0.25, 0.0, 0.25]"
   ]
  },
  {
   "cell_type": "code",
   "execution_count": 14,
   "metadata": {},
   "outputs": [
    {
     "data": {
      "text/plain": [
       "-25.65377280623882"
      ]
     },
     "execution_count": 14,
     "metadata": {},
     "output_type": "execute_result"
    }
   ],
   "source": [
    "p10r = 0\n",
    "for i in range(15):\n",
    "    for j in range(15):\n",
    "        for k in range(15):\n",
    "            for l in range(15):\n",
    "                p10r += p_e0_1r[i] * p_e0_1r[j] * R8e[i][j][k][l] * p_e1_1r[k] * p_e1_1r[l]\n",
    "float(log(p10r, 2))"
   ]
  },
  {
   "cell_type": "markdown",
   "metadata": {},
   "source": [
    "<a name=\"14_rounds\"></a>\n",
    "# 14 Rounds"
   ]
  },
  {
   "cell_type": "markdown",
   "metadata": {},
   "source": [
    "### E0-3 round"
   ]
  },
  {
   "cell_type": "code",
   "execution_count": 4,
   "metadata": {},
   "outputs": [],
   "source": [
    "p_e0_3r = [0.0001068115234375, 6.103515625e-05, 0.0003509521484375, 0.0001068115234375, 0.001251220703125, 0.0003509521484375, 0.000244140625, 0.000152587890625, 0.0001068115234375, 0.0013427734375, 0.0003509521484375, 0.0001068115234375, 0.0013427734375, 0.0003509521484375, 0.0013427734375]"
   ]
  },
  {
   "cell_type": "markdown",
   "metadata": {},
   "source": [
    "### E1-3 round"
   ]
  },
  {
   "cell_type": "code",
   "execution_count": 16,
   "metadata": {},
   "outputs": [],
   "source": [
    "p_e1_3r = [0.0001068115234375, 6.103515625e-05, 0.0003509521484375, 0.0001068115234375, 0.001251220703125, 0.0003509521484375, 0.000244140625, 0.000152587890625, 0.0001068115234375, 0.0013427734375, 0.0003509521484375, 0.0001068115234375, 0.0013427734375, 0.0003509521484375, 0.0013427734375]"
   ]
  },
  {
   "cell_type": "code",
   "execution_count": 17,
   "metadata": {},
   "outputs": [
    {
     "data": {
      "text/plain": [
       "-55.85558788178753"
      ]
     },
     "execution_count": 17,
     "metadata": {},
     "output_type": "execute_result"
    }
   ],
   "source": [
    "p14r = 0\n",
    "for i in range(15):\n",
    "    for j in range(15):\n",
    "        for k in range(15):\n",
    "            for l in range(15):\n",
    "                p14r += p_e0_3r[i] * p_e0_3r[j] * R8e[i][j][k][l] * p_e1_3r[k] * p_e1_3r[l]\n",
    "float(log(p14r, 2))"
   ]
  },
  {
   "cell_type": "code",
   "execution_count": 18,
   "metadata": {},
   "outputs": [
    {
     "data": {
      "text/plain": [
       "-66.70383412703802"
      ]
     },
     "execution_count": 18,
     "metadata": {},
     "output_type": "execute_result"
    }
   ],
   "source": [
    "p14r_1 = 0\n",
    "shifted_golden_set = [5 - 1, 7 - 1, 10 - 1, 13 - 1, 15 - 1]\n",
    "for i in range(15):\n",
    "    for j in range(15):\n",
    "        if i not in shifted_golden_set and j not in shifted_golden_set:\n",
    "            p14r_1 += p_e0_3r[i]^2 * R8e2dim[i][j] * p_e1_3r[j]^2\n",
    "float(log(p14r_1, 2))"
   ]
  },
  {
   "cell_type": "code",
   "execution_count": 19,
   "metadata": {},
   "outputs": [
    {
     "data": {
      "text/plain": [
       "-55.85480551707164"
      ]
     },
     "execution_count": 19,
     "metadata": {},
     "output_type": "execute_result"
    }
   ],
   "source": [
    "float(log(p14r + p14r_1, 2))"
   ]
  },
  {
   "cell_type": "markdown",
   "metadata": {},
   "source": [
    "# Life truly is a boomerang. What you give, you get!"
   ]
  },
  {
   "cell_type": "code",
   "execution_count": 20,
   "metadata": {},
   "outputs": [
    {
     "data": {
      "text/plain": [
       "True"
      ]
     },
     "execution_count": 20,
     "metadata": {},
     "output_type": "execute_result"
    }
   ],
   "source": [
    "all(x in golden_set for x in [5, 7, 10])"
   ]
  },
  {
   "cell_type": "code",
   "execution_count": null,
   "metadata": {},
   "outputs": [],
   "source": []
  }
 ],
 "metadata": {
  "kernelspec": {
   "display_name": "SageMath 9.1",
   "language": "sage",
   "name": "sagemath"
  },
  "language_info": {
   "codemirror_mode": {
    "name": "ipython",
    "version": 3
   },
   "file_extension": ".py",
   "mimetype": "text/x-python",
   "name": "python",
   "nbconvert_exporter": "python",
   "pygments_lexer": "ipython3",
   "version": "3.7.3"
  }
 },
 "nbformat": 4,
 "nbformat_minor": 2
}
